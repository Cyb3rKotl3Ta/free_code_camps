{
 "cells": [
  {
   "cell_type": "code",
   "execution_count": 1,
   "metadata": {},
   "outputs": [],
   "source": [
    "from sqlalchemy import select, func, and_, or_, Integer\n",
    "from sqlalchemy.orm import selectinload\n",
    "\n",
    "from models import WorkersOrm, ResumesOrm, Workload\n",
    "from schemas import ResumesDTO, ResumesRelDTO, WorkersDTO, WorkersRelDTO\n",
    "from database import session_factory, sync_engine\n",
    "\n",
    "from pydantic import BaseModel"
   ]
  },
  {
   "cell_type": "markdown",
   "metadata": {},
   "source": [
    "#### Без relationship"
   ]
  },
  {
   "cell_type": "code",
   "execution_count": 2,
   "metadata": {},
   "outputs": [
    {
     "name": "stdout",
     "output_type": "stream",
     "text": [
      "2025-01-04 10:21:56,703 INFO sqlalchemy.engine.Engine select pg_catalog.version()\n",
      "2025-01-04 10:21:56,704 INFO sqlalchemy.engine.Engine [raw sql] {}\n",
      "2025-01-04 10:21:56,705 INFO sqlalchemy.engine.Engine select current_schema()\n",
      "2025-01-04 10:21:56,706 INFO sqlalchemy.engine.Engine [raw sql] {}\n",
      "2025-01-04 10:21:56,707 INFO sqlalchemy.engine.Engine show standard_conforming_strings\n",
      "2025-01-04 10:21:56,707 INFO sqlalchemy.engine.Engine [raw sql] {}\n",
      "2025-01-04 10:21:56,711 INFO sqlalchemy.engine.Engine BEGIN (implicit)\n",
      "2025-01-04 10:21:56,722 INFO sqlalchemy.engine.Engine SELECT workers.id, workers.username \n",
      "FROM workers \n",
      " LIMIT %(param_1)s::INTEGER\n",
      "2025-01-04 10:21:56,723 INFO sqlalchemy.engine.Engine [generated in 0.00106s] {'param_1': 2}\n",
      "result_orm=[<WorkersOrm id=1, username=Jack>, <WorkersOrm id=2, username=Michael>]\n",
      "result_dto=[WorkersDTO(username='Jack', id=1), WorkersDTO(username='Michael', id=2)]\n",
      "2025-01-04 10:21:56,726 INFO sqlalchemy.engine.Engine ROLLBACK\n"
     ]
    },
    {
     "name": "stderr",
     "output_type": "stream",
     "text": [
      "C:\\Users\\misto\\AppData\\Local\\Temp\\ipykernel_13348\\3179573061.py:7: SAWarning: relationship 'WorkersOrm.resumes_parttime' will copy column workers.id to column resumes.worker_id, which conflicts with relationship(s): 'WorkersOrm.resumes' (copies workers.id to resumes.worker_id). If this is not the intention, consider if these relationships should be linked with back_populates, or if viewonly=True should be applied to one or more if they are read-only. For the less common case that foreign key constraints are partially overlapping, the orm.foreign() annotation can be used to isolate the columns that should be written towards.   To silence this warning, add the parameter 'overlaps=\"resumes\"' to the 'WorkersOrm.resumes_parttime' relationship. (Background on this warning at: https://sqlalche.me/e/20/qzyx) (This warning originated from the `configure_mappers()` process, which was invoked automatically in response to a user-initiated operation.)\n",
      "  res = session.execute(query)\n"
     ]
    }
   ],
   "source": [
    "with session_factory() as session:\n",
    "    query = (\n",
    "        select(WorkersOrm)\n",
    "        .limit(2)\n",
    "    )\n",
    "\n",
    "    res = session.execute(query)\n",
    "    result_orm = res.scalars().all()\n",
    "    print(f\"{result_orm=}\")\n",
    "    result_dto = [WorkersDTO.model_validate(row, from_attributes=True) for row in result_orm]\n",
    "    print(f\"{result_dto=}\")"
   ]
  },
  {
   "cell_type": "markdown",
   "metadata": {},
   "source": [
    "#### C relationship"
   ]
  },
  {
   "cell_type": "code",
   "execution_count": 3,
   "metadata": {},
   "outputs": [
    {
     "name": "stdout",
     "output_type": "stream",
     "text": [
      "2025-01-04 10:22:05,154 INFO sqlalchemy.engine.Engine BEGIN (implicit)\n",
      "2025-01-04 10:22:05,157 INFO sqlalchemy.engine.Engine SELECT workers.id, workers.username \n",
      "FROM workers \n",
      " LIMIT %(param_1)s::INTEGER\n",
      "2025-01-04 10:22:05,157 INFO sqlalchemy.engine.Engine [generated in 0.00085s] {'param_1': 2}\n",
      "2025-01-04 10:22:05,161 INFO sqlalchemy.engine.Engine SELECT resumes.worker_id AS resumes_worker_id, resumes.id AS resumes_id, resumes.title AS resumes_title, resumes.compensation AS resumes_compensation, resumes.workload AS resumes_workload, resumes.created_at AS resumes_created_at, resumes.updated_at AS resumes_updated_at \n",
      "FROM resumes \n",
      "WHERE resumes.worker_id IN (%(primary_keys_1)s::INTEGER, %(primary_keys_2)s::INTEGER)\n",
      "2025-01-04 10:22:05,162 INFO sqlalchemy.engine.Engine [generated in 0.00102s] {'primary_keys_1': 1, 'primary_keys_2': 2}\n",
      "result_orm=[<WorkersOrm id=1, username=Jack>, <WorkersOrm id=2, username=Michael>]\n",
      "result_dto=[WorkersRelDTO(username='Jack', id=1, resumes=[ResumesDTO(title='Python Junior Developer', compensation=50000, workload=<Workload.fulltime: 'fulltime'>, worker_id=1, id=1, created_at=datetime.datetime(2025, 1, 4, 8, 17, 49, 886025), updated_at=datetime.datetime(2025, 1, 4, 8, 17, 49, 886025)), ResumesDTO(title='Python Разработчик', compensation=150000, workload=<Workload.fulltime: 'fulltime'>, worker_id=1, id=2, created_at=datetime.datetime(2025, 1, 4, 8, 17, 49, 886025), updated_at=datetime.datetime(2025, 1, 4, 8, 17, 49, 886025))]), WorkersRelDTO(username='Michael', id=2, resumes=[ResumesDTO(title='Python Data Engineer', compensation=250000, workload=<Workload.parttime: 'parttime'>, worker_id=2, id=3, created_at=datetime.datetime(2025, 1, 4, 8, 17, 49, 886025), updated_at=datetime.datetime(2025, 1, 4, 8, 17, 49, 886025)), ResumesDTO(title='Data Scientist', compensation=300000, workload=<Workload.fulltime: 'fulltime'>, worker_id=2, id=4, created_at=datetime.datetime(2025, 1, 4, 8, 17, 49, 886025), updated_at=datetime.datetime(2025, 1, 4, 8, 17, 49, 886025))])]\n",
      "2025-01-04 10:22:05,166 INFO sqlalchemy.engine.Engine ROLLBACK\n"
     ]
    }
   ],
   "source": [
    "with session_factory() as session:\n",
    "    query = (\n",
    "        select(WorkersOrm)\n",
    "        .options(selectinload(WorkersOrm.resumes))\n",
    "        .limit(2)\n",
    "    )\n",
    "\n",
    "    res = session.execute(query)\n",
    "    result_orm = res.scalars().all()\n",
    "    print(f\"{result_orm=}\")\n",
    "    result_dto = [WorkersRelDTO.model_validate(row, from_attributes=True) for row in result_orm]\n",
    "    print(f\"{result_dto=}\")"
   ]
  },
  {
   "cell_type": "markdown",
   "metadata": {},
   "source": [
    "#### JOIN"
   ]
  },
  {
   "cell_type": "code",
   "execution_count": 4,
   "metadata": {},
   "outputs": [],
   "source": [
    "class WorkloadAvgCompensationDTO(BaseModel):\n",
    "    workload: Workload\n",
    "    avg_compensation: int"
   ]
  },
  {
   "cell_type": "code",
   "execution_count": 5,
   "metadata": {},
   "outputs": [
    {
     "name": "stdout",
     "output_type": "stream",
     "text": [
      "2025-01-04 10:22:11,379 INFO sqlalchemy.engine.Engine BEGIN (implicit)\n",
      "2025-01-04 10:22:11,382 INFO sqlalchemy.engine.Engine SELECT resumes.workload, CAST(avg(resumes.compensation) AS INTEGER) AS avg_compensation \n",
      "FROM resumes \n",
      "WHERE (resumes.title LIKE '%%' || %(title_1)s::VARCHAR || '%%') AND resumes.compensation > %(compensation_1)s::INTEGER GROUP BY resumes.workload \n",
      "HAVING avg(resumes.compensation) > %(avg_1)s::INTEGER\n",
      "2025-01-04 10:22:11,382 INFO sqlalchemy.engine.Engine [generated in 0.00068s] {'title_1': 'Python', 'compensation_1': 40000, 'avg_1': 70000}\n",
      "result_orm=[(<Workload.parttime: 'parttime'>, 165000), (<Workload.fulltime: 'fulltime'>, 90000)]\n",
      "result_dto=[WorkloadAvgCompensationDTO(workload=<Workload.parttime: 'parttime'>, avg_compensation=165000), WorkloadAvgCompensationDTO(workload=<Workload.fulltime: 'fulltime'>, avg_compensation=90000)]\n",
      "2025-01-04 10:22:11,385 INFO sqlalchemy.engine.Engine ROLLBACK\n"
     ]
    }
   ],
   "source": [
    "with session_factory() as session:\n",
    "    query = (\n",
    "        select(\n",
    "            ResumesOrm.workload,\n",
    "            func.avg(ResumesOrm.compensation).cast(Integer).label(\"avg_compensation\"),\n",
    "        )\n",
    "        .select_from(ResumesOrm)\n",
    "        .filter(and_(\n",
    "            ResumesOrm.title.contains(\"Python\"),\n",
    "            ResumesOrm.compensation > 40000,\n",
    "        ))\n",
    "        .group_by(ResumesOrm.workload)\n",
    "        .having(func.avg(ResumesOrm.compensation) > 70000)\n",
    "    )\n",
    "    res = session.execute(query)\n",
    "    result_orm = res.all()\n",
    "    print(f\"{result_orm=}\")\n",
    "    result_dto = [WorkloadAvgCompensationDTO.model_validate(row, from_attributes=True) for row in result_orm]\n",
    "    print(f\"{result_dto=}\")"
   ]
  }
 ],
 "metadata": {
  "kernelspec": {
   "display_name": "venv",
   "language": "python",
   "name": "python3"
  },
  "language_info": {
   "codemirror_mode": {
    "name": "ipython",
    "version": 3
   },
   "file_extension": ".py",
   "mimetype": "text/x-python",
   "name": "python",
   "nbconvert_exporter": "python",
   "pygments_lexer": "ipython3",
   "version": "3.11.4"
  }
 },
 "nbformat": 4,
 "nbformat_minor": 2
}
